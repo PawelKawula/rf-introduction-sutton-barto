{
 "cells": [
  {
   "cell_type": "markdown",
   "id": "a38fbcf6-f034-40fe-8b80-e9612b290635",
   "metadata": {},
   "source": [
    "### 2.1  \n",
    "  In $\\epsilon$-greedy action selection, for the case of two actions and $\\epsilon$ = 0.5, what is the probability that the greedy action is selected?\n",
    "  \n",
    "  Since the value for otimal action is $$ (1-\\epsilon) + \\frac {\\epsilon}{n} $$ where n is number of possible action, it will result in $$ (1-0.5) + \\frac {0.5}{2} = 0.75 $$"
   ]
  },
  {
   "cell_type": "markdown",
   "id": "14e54b9d-f2a3-4e46-88b4-b372daa9c4c3",
   "metadata": {},
   "source": [
    "### 2.2\n",
    "  *Bandit example* Consider a $k$ -armed bandit problem with k = 4 actions,\n",
    "  denoted $1, 2, 3,$ and $4$. Consider applying to this problem a bandit algorithm using\n",
    "  $\\epsilon$-greedy action selection, sample-average action-value estimates, and initial estimates\n",
    "  of $Q_1 (a) = 0$, for all a. Suppose the initial sequence of actions and rewards is $A_1 = 1$,\n",
    "  $R_1 = 1$, $A_2 = 2$, $R_2 = 1$, $A_3 = 2$, $R_3 = 2$, $A_4 = 2$, $R_4 = 2$, $A_5 = 3$, $R_5 = 0$. On some\n",
    "  of these time steps the \" case may have occurred, causing an action to be selected at\n",
    "  random. On which time steps did this definitely occur? On which time steps could this\n",
    "  possibly have occurred?  "
   ]
  },
  {
   "cell_type": "code",
   "execution_count": null,
   "id": "123a1e6f-8d1d-4d0b-af92-b8be208e145b",
   "metadata": {},
   "outputs": [],
   "source": [
    "import matplotlib.pyplot as plt\n",
    "\n",
    "xs = [i for i in range(1,6)]\n",
    "ys = [-1,1,-2,2,0]\n",
    "fig, ax = plt.subplots()\n",
    "ax.scatter(xs, ys, c='r')\n",
    "ax.set_xlabel(\"Timestep\")\n",
    "ax.set_ylabel(\"Reward\")\n",
    "plt.savefig('2_2.jpg')"
   ]
  },
  {
   "cell_type": "markdown",
   "id": "de4e7180-8302-4e4c-9292-7feecfc7aa7d",
   "metadata": {},
   "source": [
    "![Solution](2_2.jpg)"
   ]
  },
  {
   "cell_type": "markdown",
   "id": "51fbd65d-5ade-4832-a3d0-228636684b63",
   "metadata": {},
   "source": [
    "It definitely occured on timesteps 3,4 and 5"
   ]
  },
  {
   "cell_type": "markdown",
   "id": "30dfdcb6-9e06-4881-9917-aadde5f9099d",
   "metadata": {},
   "source": [
    "### 2.3 \n",
    "  In the comparison shown in Figure 2.2, which method will perform best in\n",
    "  the long run in terms of cumulative reward and probability of selecting the best action?\n",
    "  How much better will it be? Express your answer quantitatively.\n",
    "\n",
    "  In terms of average reward method with $\\epsilon = 0.01$ seems to not yet level out in performance,\n",
    "  as well as it didn't seem to level out in optimal action $%$, so it will probably overcome\n",
    "  the other eps-greedy method because it will select the most rewarding action which they probably\n",
    "  already figured out but are still choosing to explore, so I belive that because of $\\epsilon$\n",
    "  0.1 method will approach average reward of $1.54 \\cdot 0.9$ and the other $1.54 \\cdot 0.99$ and \n",
    "  the optimal action $%$ will be the same story"
   ]
  },
  {
   "cell_type": "markdown",
   "id": "773b2e1f-433f-4b99-83fa-75d2ff9ffac7",
   "metadata": {},
   "source": [
    "### 2.4\n",
    "  If the step-size parameters, $a_n$ are not constant, then the estimate $Q_n$ is\n",
    "  a weighted average of previously received rewards with a weighting different from that\n",
    "  given by (2.6). What is the weighting on each prior reward for the general case, analogous\n",
    "  to (2.6), in terms of the sequence of step-size parameters?\n",
    "\n",
    "  $ R_{t}=G_{t-1}-\\alpha G_t$"
   ]
  },
  {
   "cell_type": "markdown",
   "id": "eeae164f-70d3-4dbf-bf8c-eab83f36e98a",
   "metadata": {},
   "source": [
    "### Exercise 2.5 (programming)\n",
    "Design and conduct an experiment to demonstrate the\n",
    "difficulties that sample-average methods have for nonstationary problems. Use a modified\n",
    "version of the 10-armed testbed in which all the $q_{*}(a)$ start out equal and then take\n",
    "independent random walks (say by adding a normally distributed increment with mean 0\n",
    "and standard deviation 0.01 to all the $q_{*}(a)$ on each step). Prepare plots like Figure 2.2\n",
    "for an action-value method using sample averages, incrementally computed, and another\n",
    "action-value method using a constant step-size parameter, $\\alpha = 0.1$. Use $\\epsilon = 0.1$ and\n",
    "longer runs, say of 10,000 steps."
   ]
  },
  {
   "cell_type": "code",
   "execution_count": null,
   "id": "a9267ab8-45e6-4f86-b6a4-f5dee68f9df6",
   "metadata": {},
   "outputs": [],
   "source": [
    "#2.5\n",
    "from numpy import zeros, argmax, random, empty\n",
    "from numpy.random import normal, randint, random as rand\n",
    "steps, episodes, alpha, eps, n_levers = 10000, 2000, 0.1, 0.1, 10\n",
    "Qs = [np.zeros(n_levers) for _ in range(episodes)]\n",
    "ns = [np.zeros(n_levers) for _ in range(episodes)]\n",
    "qs = [np.array([normal(randint(-2,3),1) for _ in range(n_levers)]) for _ in range(episodes)]\n",
    "avgrwd = [zeros(steps, dtype=float) for _ in range(episodes)]\n",
    "bstrwd = [zeros(steps, dtype=float) for _ in range(episodes)]\n",
    "peropt = [zeros(steps, dtype=float) for _ in range(episodes)]\n",
    "\n",
    "for e in range(episodes):\n",
    "    for i in range(steps):\n",
    "        act = argmax(Qs[e]) if eps < rand() else randint(n_levers)\n",
    "        ns[e][act] += 1\n",
    "        Qs[e][act] += (qs[e][act] - Qs[e][act]) / ns[e][act]\n",
    "        avgrwd[e][i] = (avgrwd[e][i-1] * i + qs[e][act]) / (i+1)\n",
    "    #    print(f\"act={act}, Qs[act]={Qs[act]:+.5f}, argmax(Qs)={argmax(Qs)}\\\n",
    "    #, argmax(qs)={argmax(qs)}, max(qs)={max(qs):+.5f}, avgrwd[i]={avgrwd[i]:+.5f}, best action chosen: {act == argmax(qs)}\")\n",
    "        bstrwd[e][i] = max(qs[e])\n",
    "        peropt[e][i] = (peropt[e][i-1] * i + (act == argmax(qs[e]))) / (i+1)\n",
    "        for j in range(len(qs[e])): qs[e][j] += normal(0, 0.01)\n",
    "rewards, best_rewards, percent = np.mean(avgrwd, axis=0), np.mean(bstrwd, axis=0), np.mean(peropt, axis=0)"
   ]
  },
  {
   "cell_type": "markdown",
   "id": "72d56be9-3dda-4c58-b4e6-80bbbd679474",
   "metadata": {},
   "source": [
    "![Rozwiazanie](2_5.png)"
   ]
  },
  {
   "cell_type": "code",
   "execution_count": null,
   "id": "a9ab9436-304c-473d-a702-a2abf1b32bd5",
   "metadata": {},
   "outputs": [],
   "source": [
    "import matplotlib.pyplot as plt\n",
    "fig, (ax1, ax2) = plt.subplots(nrows=2)\n",
    "fig.set_dpi(120)\n",
    "ax1.plot(range(steps), rewards, c='r', label='Average Reward')\n",
    "ax1.axhline(best_rewards.mean(), c='b', label='Mean Best Reward')\n",
    "ax1.legend()\n",
    "ax2.plot(range(steps), percent, c='r', label='% optimal action')\n",
    "ax2.legend()\n",
    "plt.show()"
   ]
  },
  {
   "cell_type": "markdown",
   "id": "a8470e8b-de41-471a-bd61-cba1723f6acc",
   "metadata": {},
   "source": [
    "### 2.6  \n",
    "*Mysterious Spikes* The results shown in Figure 2.3 should be quite reliable\n",
    "because they are averages over 2000 individual, randomly chosen 10-armed bandit tasks.\n",
    "Why, then, are there oscillations and spikes in the early part of the curve for the optimistic\n",
    "method? In other words, what might make this method perform particularly better or\n",
    "worse, on average, on particular early steps?\n",
    "\n",
    "It's because all of our possible actions have their values way above what's possible, so we will choose\n",
    "the best possible action at the start, but won't acknowledge that it is indeed the best choice, since all the other ones\n",
    "have their value averages way to big."
   ]
  },
  {
   "cell_type": "markdown",
   "id": "40a6c4b3-7784-4d51-b8fa-d80617f8ec32",
   "metadata": {},
   "source": [
    "### 2.7\n",
    "*Unbiased Constant-Step-Size Trick* In most of this chapter we have used\n",
    "sample averages to estimate action values because sample averages do not produce the\n",
    "initial bias that constant step sizes do (see the analysis leading to (2.6)). However, sample\n",
    "averages are not a completely satisfactory solution because they may perform poorly\n",
    "on nonstationary problems. Is it possible to avoid the bias of constant step sizes while\n",
    "retaining their advantages on nonstationary problems? One way is to use a step size of\n",
    "$$\\beta_{n} = \\alpha~/~\\overline{o}_{n} ~~~~(2.8)$$\n",
    "to process the nth reward for a particular action, where $\\alpha > 0$ is a conventional constant\n",
    "step size, and $ō$ n is a trace of one that starts at $0$:\n",
    ".\n",
    ".\n",
    "$$\\bar{o}_n = \\bar{o}_{n-1}~+~\\alpha(1~-~\\bar{o}_{n-1} ),~~for~ n \\ge 0,~~ with~~ \\bar o_{0} = 0.~~~~(2.9)$$\n",
    "\n",
    "Carry out an analysis like that in (2.6) to show that $Q_n$ n is an exponential recency-weighted\n",
    "average *without initial bias*"
   ]
  },
  {
   "cell_type": "markdown",
   "id": "ace2af30-0e9e-4131-806d-97f40966e41f",
   "metadata": {},
   "source": [
    "$ Q_{n+1} = Q_n + \\alpha/\\bar{o}_n[R_n - Q_n] $"
   ]
  },
  {
   "cell_type": "markdown",
   "id": "03955457-a413-4fac-8591-c209090dcd40",
   "metadata": {},
   "source": [
    "$ Q_{n+1} = \\alpha/\\bar{o}_n R_n + (1-\\alpha/\\bar{o}_n)Q_n $"
   ]
  },
  {
   "cell_type": "markdown",
   "id": "0b997340-16c0-48f3-b903-e640fab0d86f",
   "metadata": {},
   "source": [
    "$ Q_{n+1} = \\alpha/\\bar{o}_n R_n + (1-\\alpha/\\bar{o}_n)[\\alpha/\\bar{o}_n\n",
    "R_{n-1} + (1-\\alpha/\\bar{o}_{n-1})Q_{n-1}]$"
   ]
  },
  {
   "cell_type": "markdown",
   "id": "dae264f5-cebf-4a71-97cd-e1be5513dc8e",
   "metadata": {},
   "source": [
    "$ Q_{n+1} = \\alpha/\\bar{o}_n R_n + (1-\\alpha/\\bar{o}_n)\\alpha/\\bar{o}_n $\n",
    "$ R_{n-1} + (1-\\alpha/\\bar{o}_{n-1})^{2}Q_{n-1} $"
   ]
  },
  {
   "cell_type": "markdown",
   "id": "4f8b8a15-5bfc-44fa-895a-0ba41290b18a",
   "metadata": {},
   "source": [
    "$ Q_{n+1} = \\alpha/\\bar{o}_n R_n + (1-\\alpha/\\bar{o}_n)\\alpha/\\bar{o}_n $\n",
    "$ R_{n-1} + (1-\\alpha/\\bar{o}_{n-1})^{2}R_{n-2} + ... + $\n",
    "$ (1-\\alpha/\\bar{o}_{2})^{n-1}R_1 + (1-\\alpha/\\bar{o}_1)^{n}Q_1 $"
   ]
  },
  {
   "cell_type": "markdown",
   "id": "f27cf6ba-baee-4e42-ac3f-b8c96da75d93",
   "metadata": {},
   "source": [
    "$ Q_{n+1}= \\sum_{i=1}^n(1-\\alpha/\\bar{o}_{n-i})^iR_{n-i} + (1-\\alpha)^n Q_1 $"
   ]
  },
  {
   "cell_type": "markdown",
   "id": "3f33c810-d7ef-482f-a8a2-1dc42d24b99b",
   "metadata": {},
   "source": [
    "We can see that our bracket with Reward gets bigger since at every timestep we subtract less and less."
   ]
  },
  {
   "cell_type": "markdown",
   "id": "65279759-48ba-4926-9d1e-2cddae139250",
   "metadata": {},
   "source": [
    "### 2.8\n",
    "*UCB Spikes*   In Figure 2.4 the UCB algorithm shows a distinct spike\n",
    "in performance on the 11th step. Why is this? Note that for your answer to be fully\n",
    "satisfactory it must explain both why the reward increases on the 11th step and why it\n",
    "decreases on the subsequent steps. Hint: If c = 1, then the spike is less prominent. \n",
    "\n",
    "It is because our algorithm happened to check all of values since in the beginning all the values\n",
    "were uncertain, so at this step it came back to the value and since c is 2 the uncertainity is big for others so it goes back to them for a few steps"
   ]
  },
  {
   "cell_type": "markdown",
   "id": "182ce2a2-fb9b-46cb-bd77-90fd5ca4d19c",
   "metadata": {},
   "source": [
    "### 2.9\n",
    "Show that in the case of two actions, the soft-max distribution is the same\n",
    "as that given by the logistic, or sigmoid, function often used in statistics and artificial\n",
    "neural networks.\n",
    "\n",
    "Suppose we have constant rewards for two different actions a and b: $r_{a}$ and $r_{b}$:  \n",
    "Lets see value of a for softmax:\n",
    "$ Pr\\{A_{t} = a\\}~=~\\frac{e^{H_{t}(a)}}{e^{H_{t}(a)}+e^{H_t(b)}} $  \n",
    "$ Pr\\{A_{t} = b\\}~=~\\frac{e^{H_{t}(b)}}{e^{H_{t}(a)}+e^{H_t(b)}} $  \n",
    "And for sigmoid:  \n",
    "$ Pr\\{A_{t} = a\\}~=~\\frac{1}{1+e^{-a}} $  \n",
    "$ Pr\\{A_{t} = b\\}~=~\\frac{1}{1+e^{-b}} $  \n",
    "$ \\frac{1}{1+e^{-a}}~=~\\frac{e^{H_{t}(a)}}{e^{H_{t}(a)}+e^{H_t(b)}} $  "
   ]
  },
  {
   "cell_type": "markdown",
   "id": "9ac7f39d-b224-4e4d-8d10-63b8b8b7d97c",
   "metadata": {},
   "source": [
    "### 2.10\n",
    "Suppose you face a 2-armed bandit task whose true action values change\n",
    "randomly from time step to time step. Specifically, suppose that, for any time step,\n",
    "the true values of actions 1 and 2 are respectively 10 and 20 with probability 0.5 (case\n",
    "A), and 90 and 80 with probability 0.5 (case B). If you are not able to tell which case\n",
    "you face at any step, what is the best expected reward you can achieve and how should\n",
    "you behave to achieve it? Now suppose that on each step you are told whether you are\n",
    "facing case A or case B (although you still don’t know the true action values). This is an\n",
    "associative search task. What is the best expected reward you can achieve in this task,\n",
    "and how should you behave to achieve it?\n",
    "\n",
    "1) Our model will probably pick these actions randomly since both of them will have the same mean if these cases occur on flip of a coin distribution\n",
    "2) If we'll know which case are we facing at every timestep then our model can learn the best possible action at every time step.\n",
    "3) We will have to learn the best values for each case and our best possible average reward can be $\\frac{90+20}{2}=55$"
   ]
  },
  {
   "cell_type": "markdown",
   "id": "031fb090-aa45-437c-a4ee-d382a8f50b67",
   "metadata": {},
   "source": [
    "### 2.11\n",
    "Make a figure analogous to Figure 2.6 for the nonstationary\n",
    "case outlined in Exercise 2.5. Include the constant-step-size $\\epsilon$-greedy algorithm with\n",
    "$\\alpha= 0.1$. Use runs of 200,000 steps and, as a performance measure for each algorithm and\n",
    "parameter setting, use the average reward over the last 100,000 steps."
   ]
  },
  {
   "cell_type": "code",
   "execution_count": null,
   "id": "fdfb8371-68bc-4523-98bd-0a04998396dc",
   "metadata": {},
   "outputs": [],
   "source": [
    "#2.5\n",
    "import numpy as np\n",
    "from numpy import zeros, argmax, random, empty, linspace\n",
    "from numpy.random import normal, randint, random as rand\n",
    "steps, episodes, alpha, n_levers = 20000, 2000, 0.1, 10\n",
    "epsilon = linspace(0,0.5,10)\n",
    "Qs = np.array([np.zeros(n_levers) for _ in range(episodes)])\n",
    "ns = np.array([np.zeros(n_levers) for _ in range(episodes)])\n",
    "qs = np.array([[normal(randint(-2,3),1) for _ in range(n_levers)] for _ in range(episodes)])\n",
    "avgrwd = np.array([zeros(steps, dtype=float) for _ in range(episodes)])\n",
    "rewards = np.empty(len(epsilon))\n",
    "bstrwd = np.array([zeros(steps, dtype=float) for _ in range(episodes)])\n",
    "best_rewards = np.empty(len(epsilon))\n",
    "\n",
    "for ieps, eps in enumerate(epsilon):\n",
    "    for e in range(episodes):\n",
    "        for i in range(steps):\n",
    "            act = argmax(Qs[e]) if eps < rand() else randint(n_levers)\n",
    "            ns[e][act] += 1\n",
    "            Qs[e][act] += (qs[e][act] - Qs[e][act]) / ns[e][act]\n",
    "            avgrwd[e][i] = (avgrwd[e][i-1] * i + qs[e][act]) / (i+1)\n",
    "        #    print(f\"act={act}, Qs[act]={Qs[act]:+.5f}, argmax(Qs)={argmax(Qs)}\\\n",
    "        #, argmax(qs)={argmax(qs)}, max(qs)={max(qs):+.5f}, avgrwd[i]={avgrwd[i]:+.5f}, best action chosen: {act == argmax(qs)}\")\n",
    "            bstrwd[e][i] = max(qs[e])\n",
    "            for j in range(len(qs[e])): qs[e][j] += normal(0, 0.01)\n",
    "    ns.fill(0); Qs.fill(0); \n",
    "    rewards[ieps] = np.mean(avgrwd[:,int(steps/2):], axis=(0,1))\n",
    "    best_rewards[ieps] = np.mean(bstrwd[:,int(steps/2):], axis=(0,1))"
   ]
  },
  {
   "cell_type": "markdown",
   "id": "e924b80a-ea43-4bbc-9595-19ff4bd8dd05",
   "metadata": {},
   "source": [
    "![Rozwiazanie](2_11.jpg)"
   ]
  },
  {
   "cell_type": "code",
   "execution_count": null,
   "id": "d5bba913-f1f3-4447-b022-17582467a130",
   "metadata": {},
   "outputs": [],
   "source": [
    "import matplotlib.pyplot as plt\n",
    "fig, ax = plt.subplots()\n",
    "ax.plot(epsilon, rewards, c='r', label='Average Reward')\n",
    "ax.legend()\n",
    "ax.set_xlabel(\"eps\")\n",
    "ax.set_ylabel(\"Reward\")\n",
    "plt.savefig(\"2_11.jpg\")\n",
    "plt.show()"
   ]
  }
 ],
 "metadata": {
  "kernelspec": {
   "display_name": "Python 3 (ipykernel)",
   "language": "python",
   "name": "python3"
  },
  "language_info": {
   "codemirror_mode": {
    "name": "ipython",
    "version": 3
   },
   "file_extension": ".py",
   "mimetype": "text/x-python",
   "name": "python",
   "nbconvert_exporter": "python",
   "pygments_lexer": "ipython3",
   "version": "3.9.2"
  }
 },
 "nbformat": 4,
 "nbformat_minor": 5
}
